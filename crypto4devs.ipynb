{
 "cells": [
  {
   "cell_type": "code",
   "execution_count": null,
   "id": "4806c2b0",
   "metadata": {},
   "outputs": [],
   "source": [
    "import binascii\n",
    "import random\n",
    "import math\n",
    "import sys\n",
    "\n",
    "def assert_equal(a, b):\n",
    "    if a != b:\n",
    "        raise AssertionError(f\"Error: Expected {b} but got {a}.\")\n",
    "\n",
    "def xor(a: bytes, b: bytes) -> bytes:\n",
    "    max_len = max(len(a), len(b))\n",
    "    ret = []\n",
    "    for i in range(max_len):\n",
    "        a_value = a[i % len(a)]\n",
    "        b_value = b[i % len(b)]\n",
    "        ret += [a_value ^ b_value]\n",
    "    return bytes(ret)\n",
    "\n",
    "def random_seed(seed: int) -> random.Random:\n",
    "    prng = random.Random(seed)\n",
    "    return prng\n",
    "\n",
    "def random_byte(prng: random.Random) -> int:\n",
    "    return prng.randint(0, 255)\n",
    "\n",
    "def split_blocks(data: bytes) -> list[bytes]:\n",
    "    block_size = 8\n",
    "    num_blocks = (len(data) + block_size - 1) // block_size\n",
    "    \n",
    "    ret = [] \n",
    "    for start in range(0, len(data), block_size):\n",
    "        ret += [data[start:start+block_size]]\n",
    "    \n",
    "    return ret\n",
    "\n",
    "def encrypt_block(key: bytes, block: bytes) -> bytes:\n",
    "    return xor(xor(key, block), block[::-1])[:8]\n",
    "\n",
    "def is_prime(n: int) -> bool:\n",
    "    return not(any(n % i == 0 for i in range(2, n))) \n",
    "\n",
    "def random_prime() -> int:\n",
    "    n = random.randint(0, 99999)\n",
    "    while not is_prime(n):\n",
    "        n = random.randint(0, 99999)\n",
    "    return n\n",
    "\n",
    "def is_coprime(a: int, b: int) -> bool:\n",
    "    return math.gcd(a, b) == 1\n",
    "\n",
    "def modular_inverse(x: int, N: int) -> int:\n",
    "    return pow(x, -1, N)\n"
   ]
  },
  {
   "cell_type": "markdown",
   "id": "fbf688ab",
   "metadata": {},
   "source": [
    "# Exercise 1"
   ]
  },
  {
   "cell_type": "code",
   "execution_count": null,
   "id": "1673365e",
   "metadata": {},
   "outputs": [],
   "source": [
    "def encrypt_stream(key: bytes, message: bytes) -> bytes:\n",
    "    pass\n",
    "\n",
    "assert_equal(list(encrypt_stream(b\"mykey\", b\"myvalue\")), [64, 251, 246, 246, 236, 95, 233])\n",
    "assert_equal(list(encrypt_stream(b\"1234\", b\"abcdef\")), [30, 231, 133, 99, 157, 178])"
   ]
  },
  {
   "cell_type": "markdown",
   "id": "a224c842",
   "metadata": {},
   "source": [
    "# Exercise 2"
   ]
  },
  {
   "cell_type": "code",
   "execution_count": null,
   "id": "37b6c448",
   "metadata": {},
   "outputs": [],
   "source": [
    "def pad(message: bytes) -> bytes:\n",
    "    pass\n",
    "\n",
    "assert_equal(pad(b\"1234567\"), b'1234567\\x01')\n",
    "assert_equal(pad(b\"abcdefgh\"), b'abcdefgh\\x08\\x08\\x08\\x08\\x08\\x08\\x08\\x08')"
   ]
  },
  {
   "cell_type": "code",
   "execution_count": null,
   "id": "9cf3823c",
   "metadata": {},
   "outputs": [],
   "source": [
    "def ecb(key: bytes, message: bytes) -> bytes:\n",
    "    pass\n",
    "\n",
    "assert_equal(ecb(b\"toreon\", b\"mysecretvalue\"), b'mssciohv\\x01\\r\\x1du\\x7f\\x01\\x16\\x1a')\n",
    "assert_equal(ecb(b\"mykey\", b\"RepeatedRepeated\"), b'[yoa}iy][yoa}iy]mykeymyk')"
   ]
  },
  {
   "cell_type": "markdown",
   "id": "6fb24052",
   "metadata": {},
   "source": [
    "# Exercise 3"
   ]
  },
  {
   "cell_type": "code",
   "execution_count": null,
   "id": "89d68dfc",
   "metadata": {},
   "outputs": [],
   "source": [
    "def cbc(key: bytes, iv: bytes, message: bytes) -> bytes:\n",
    "    pass\n",
    "\n",
    "assert_equal(cbc(b\"passwerk\", b\"toreon12\", b\"mysecretvalue\"), b'/#n\\x7f{x04\\x1e\\x10\\ngc\\x1c\\x03\\x05')\n",
    "assert_equal(cbc(b\"passwerk\", b\"toreon12\", b\"RepeatedRepeated\"), b'\\x00?k}y},\\x1b]raswwaFkrewssap')"
   ]
  },
  {
   "cell_type": "markdown",
   "id": "ecf05537",
   "metadata": {},
   "source": [
    "# Exercise 4"
   ]
  },
  {
   "cell_type": "code",
   "execution_count": null,
   "id": "f70dad32",
   "metadata": {},
   "outputs": [],
   "source": [
    "def generate_rsa_keys() -> tuple[int, int, int]:\n",
    "    pass\n",
    "\n",
    "random.seed(123)\n",
    "assert_equal(generate_rsa_keys(), (57821123, 161871851, 366326351))\n",
    "assert_equal(generate_rsa_keys(), (3540687, 68312543, 499981303))"
   ]
  },
  {
   "cell_type": "code",
   "execution_count": null,
   "id": "7f0e93b8",
   "metadata": {},
   "outputs": [],
   "source": [
    "def rsa_encrypt(e: int, N: int, message: bytes) -> bytes:\n",
    "    pass\n",
    "\n",
    "assert_equal(rsa_encrypt(57821123, 366326351, b\"abc\"), b'\\x00\\x98\\xea\\x8d')\n",
    "assert_equal(rsa_encrypt(3540687, 499981303, b\"def\"), b'\\x12@\\xfe+')"
   ]
  }
 ],
 "metadata": {
  "kernelspec": {
   "display_name": "Python 3 (ipykernel)",
   "language": "python",
   "name": "python3"
  },
  "language_info": {
   "codemirror_mode": {
    "name": "ipython",
    "version": 3
   },
   "file_extension": ".py",
   "mimetype": "text/x-python",
   "name": "python",
   "nbconvert_exporter": "python",
   "pygments_lexer": "ipython3",
   "version": "3.11.6"
  }
 },
 "nbformat": 4,
 "nbformat_minor": 5
}
